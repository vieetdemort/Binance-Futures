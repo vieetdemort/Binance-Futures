{
 "cells": [
  {
   "cell_type": "markdown",
   "id": "f3a79097",
   "metadata": {},
   "source": [
    "# Futures long or short position\n",
    "\n",
    "<br><br><br>"
   ]
  },
  {
   "cell_type": "markdown",
   "id": "27c6522d",
   "metadata": {},
   "source": [
    "### Get page with data in last 4 hours"
   ]
  },
  {
   "cell_type": "code",
   "execution_count": 1,
   "id": "b074ea22",
   "metadata": {},
   "outputs": [],
   "source": [
    "### import packages\n",
    "import requests\n",
    "import time\n",
    "from selenium.webdriver import Chrome\n",
    "from selenium.webdriver.common.keys import Keys\n",
    "from selenium.webdriver.common.by import By\n",
    "from selenium.webdriver.chrome.service import Service\n",
    "from selenium.webdriver.common.action_chains import ActionChains\n",
    "from selenium.webdriver.support.ui import WebDriverWait\n",
    "from selenium.webdriver.support import expected_conditions as EC\n",
    "from webdriver_manager.chrome import ChromeDriverManager"
   ]
  },
  {
   "cell_type": "code",
   "execution_count": 2,
   "id": "f94616ca",
   "metadata": {},
   "outputs": [],
   "source": [
    "driver = Chrome(service=Service(ChromeDriverManager().install()))\n",
    "driver.maximize_window()"
   ]
  },
  {
   "cell_type": "code",
   "execution_count": 3,
   "id": "d605856e",
   "metadata": {},
   "outputs": [],
   "source": [
    "driver.get(\"https://www.binance.com/en/futures/funding-history/4\")\n",
    "time.sleep(3)"
   ]
  },
  {
   "cell_type": "code",
   "execution_count": 4,
   "id": "ebb295a5",
   "metadata": {},
   "outputs": [],
   "source": [
    "actions = ActionChains(driver)\n",
    "sections = driver.find_elements(By.CLASS_NAME, 'css-w7nhq2')\n",
    "\n",
    "xp = 1\n",
    "\n",
    "while xp <= len(sections):\n",
    "    time.sleep(.5)\n",
    "    section = driver.find_element(By.XPATH, f'//*[@id=\"__APP\"]/div/div[2]/div[1]/div[2]/div[6]/div/div[1]/div[2]/div/button[{xp}]')\n",
    "    actions.move_to_element(section)\n",
    "    actions.click(section)\n",
    "    \n",
    "    hour_buttons = driver.find_element(By.XPATH, f'//*[@id=\"__APP\"]/div/div[2]/div[1]/div[2]/div[6]/div/div[2]/div[{xp}]/div[1]/div[2]/div/div/div')\n",
    "    \n",
    "    actions.move_to_element(hour_buttons)\n",
    "    actions.click(hour_buttons)\n",
    "    \n",
    "    if xp == 1 or xp == 5:\n",
    "        open_button = driver.find_element(By.XPATH, f'/html/body/div[1]/div/div[2]/div[1]/div[2]/div[6]/div/div[2]/div[{xp}]/div[1]/div[2]/div/div/div/div[3]/ul/li[6]')\n",
    "    else:\n",
    "        open_button = driver.find_element(By.XPATH, f'/html/body/div[1]/div/div[2]/div[1]/div[2]/div[6]/div/div[2]/div[{xp}]/div[1]/div[2]/div/div/div[3]/ul/li[6]')\n",
    "    \n",
    "    actions.move_to_element(open_button)\n",
    "    actions.click(open_button)\n",
    "    \n",
    "    xp+=1\n",
    "    \n",
    "    actions.perform()"
   ]
  },
  {
   "cell_type": "markdown",
   "id": "6f729784",
   "metadata": {},
   "source": [
    "## scrap data"
   ]
  },
  {
   "cell_type": "code",
   "execution_count": 5,
   "id": "33f75896",
   "metadata": {},
   "outputs": [],
   "source": [
    "from bs4 import BeautifulSoup"
   ]
  },
  {
   "cell_type": "code",
   "execution_count": 19,
   "id": "bd939560",
   "metadata": {},
   "outputs": [
    {
     "data": {
      "text/plain": [
       "5"
      ]
     },
     "execution_count": 19,
     "metadata": {},
     "output_type": "execute_result"
    }
   ],
   "source": [
    "soup = BeautifulSoup(driver.page_source, 'html.parser')\n",
    "sections = soup.find_all('div', class_='css-2ceisz')\n",
    "len(sections)"
   ]
  },
  {
   "cell_type": "code",
   "execution_count": 35,
   "id": "4f2027f0",
   "metadata": {},
   "outputs": [
    {
     "data": {
      "text/plain": [
       "['20:00',\n",
       " '00:00',\n",
       " '04:00',\n",
       " '08:00',\n",
       " '12:00',\n",
       " '16:00',\n",
       " '20:00',\n",
       " '00:00',\n",
       " '04:00',\n",
       " '08:00',\n",
       " '12:00',\n",
       " '16:00',\n",
       " '20:00',\n",
       " '00:00',\n",
       " '04:00',\n",
       " '08:00',\n",
       " '12:00',\n",
       " '16:00',\n",
       " '20:00',\n",
       " '00:00',\n",
       " '04:00',\n",
       " '08:00',\n",
       " '12:00',\n",
       " '16:00',\n",
       " '20:00',\n",
       " '00:00',\n",
       " '04:00',\n",
       " '08:00',\n",
       " '12:00',\n",
       " '16:00']"
      ]
     },
     "execution_count": 35,
     "metadata": {},
     "output_type": "execute_result"
    }
   ],
   "source": [
    "section1 = sections[0]\n",
    "times1 = section1.find_all('g', class_='highcharts-xaxis-labels')\n",
    "section1Times = []\n",
    "for time in times:\n",
    "    section1Times.append(time.text)\n",
    "    \n",
    "section1Times"
   ]
  },
  {
   "cell_type": "code",
   "execution_count": null,
   "id": "5469ddc7",
   "metadata": {},
   "outputs": [],
   "source": []
  },
  {
   "cell_type": "code",
   "execution_count": null,
   "id": "ef64ddb8",
   "metadata": {},
   "outputs": [],
   "source": []
  },
  {
   "cell_type": "code",
   "execution_count": null,
   "id": "a9331a76",
   "metadata": {},
   "outputs": [],
   "source": []
  }
 ],
 "metadata": {
  "kernelspec": {
   "display_name": "Python 3 (ipykernel)",
   "language": "python",
   "name": "python3"
  },
  "language_info": {
   "codemirror_mode": {
    "name": "ipython",
    "version": 3
   },
   "file_extension": ".py",
   "mimetype": "text/x-python",
   "name": "python",
   "nbconvert_exporter": "python",
   "pygments_lexer": "ipython3",
   "version": "3.10.4"
  }
 },
 "nbformat": 4,
 "nbformat_minor": 5
}
